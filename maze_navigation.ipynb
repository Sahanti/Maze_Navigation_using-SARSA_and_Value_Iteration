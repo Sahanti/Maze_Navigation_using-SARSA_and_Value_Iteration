{
  "cells": [
    {
      "cell_type": "code",
      "execution_count": null,
      "id": "9864e8b7",
      "metadata": {
        "id": "9864e8b7"
      },
      "outputs": [],
      "source": [
        "import numpy as np\n",
        "import random\n",
        "import matplotlib.pyplot as plt\n",
        "from matplotlib import colors\n",
        "np.random.seed(0)"
      ]
    },
    {
      "cell_type": "code",
      "execution_count": null,
      "id": "7937d2d2",
      "metadata": {
        "id": "7937d2d2"
      },
      "outputs": [],
      "source": [
        "WALL_PENALTY = -10\n",
        "MOVE_PENALTY = -1\n",
        "GOAL_REWARD = 0\n",
        "\n",
        "NOISE = 0\n",
        "\n",
        "ACTIONS = [\"up\",\"down\",\"left\",\"right\",\"stay\"]\n",
        "WALL_CONFIG = [(2,0),(2,1),(2,2),(2,3),(2,4),(4,3),(4,4),(4,5),(4,6)\n",
        "#                ,(2,6),(2,7),(2,8),(2,9),(2,10),(8,2),(8,3),(8,4),(8,5),(8,6),(8,7),(8,8),(8,9),(8,10),\n",
        "#               (8,11),(8,12),(9,2),(10,2),(11,2),(11,4),(11,5),(11,6),(11,7),(11,8),(11,9),(11,10),(11,11),(11,12),(11,13),(11,14),(16,0),(16,1),(16,2),(16,3),(16,4),(16,5),(16,6),(16,7),(16,8),(16,9),(16,10),\n",
        "#                (16,11),(16,12),(16,13),(16,14),(16,15)\n",
        "             ]\n"
      ]
    },
    {
      "cell_type": "code",
      "execution_count": null,
      "id": "0abcdc98",
      "metadata": {
        "id": "0abcdc98"
      },
      "outputs": [],
      "source": [
        "#Helper function to get our Maze\n",
        "def get_initial_grid(n):\n",
        "    grid = []\n",
        "    reward = []\n",
        "    value = np.zeros((n,n))\n",
        "    for i in range(0,n):\n",
        "        gridline = []\n",
        "        rewardline = []\n",
        "        for j in range(0,n):\n",
        "            match = False\n",
        "            if (i == 0 and j == 0):\n",
        "                gridline.append(\"St\")\n",
        "                rewardline.append(-1)\n",
        "            elif ( i==n-1 and j ==n-1):\n",
        "                gridline.append(\"Go\")\n",
        "                rewardline.append(0)\n",
        "\n",
        "            else:\n",
        "\n",
        "                for wall in WALL_CONFIG:\n",
        "                    if(wall[0] == i and wall[1] == j):\n",
        "                        match = True\n",
        "                if(match):\n",
        "                    gridline.append(\"W\")\n",
        "                    rewardline.append(-10)\n",
        "                else:\n",
        "                    gridline.append(\"_\")\n",
        "                    rewardline.append(-1)\n",
        "\n",
        "\n",
        "\n",
        "        grid.append(list(gridline))\n",
        "        reward.append(list(rewardline))\n",
        "    return grid, reward, value\n"
      ]
    },
    {
      "cell_type": "code",
      "execution_count": null,
      "id": "f2e07562",
      "metadata": {
        "id": "f2e07562"
      },
      "outputs": [],
      "source": [
        "#Helper function to print our Maze\n",
        "\n",
        "def display_initial_grid(reward):\n",
        "    cmap = colors.ListedColormap(['grey', 'white', 'red'])\n",
        "    bounds = [-10, -1, 0, 1]\n",
        "    norm = colors.BoundaryNorm(bounds, cmap.N)\n",
        "\n",
        "    fig, ax = plt.subplots()\n",
        "    ax.imshow(reward, cmap=cmap, norm=norm)\n"
      ]
    },
    {
      "cell_type": "code",
      "execution_count": null,
      "id": "5ce165dd",
      "metadata": {
        "id": "5ce165dd"
      },
      "outputs": [],
      "source": [
        "grid,reward_mat, value = get_initial_grid(7)"
      ]
    },
    {
      "cell_type": "code",
      "execution_count": null,
      "id": "a85630c9",
      "metadata": {
        "id": "a85630c9"
      },
      "outputs": [],
      "source": [
        "# Function to get our new state based on the current state and action we are taking\n",
        "def get_new_state(state,action):\n",
        "    i,j = state\n",
        "    if(action == \"up\"):\n",
        "        if(i-1 >= 0 and (i-1,j) not in WALL_CONFIG):\n",
        "            return (i-1,j)\n",
        "\n",
        "    if(action == \"down\"):\n",
        "        if(i+1 <= 6 and  (i+1,j) not in WALL_CONFIG):\n",
        "            return (i+1,j)\n",
        "\n",
        "    if(action == \"left\"):\n",
        "        if(j-1 >= 0 and (i,j-1) not in WALL_CONFIG):\n",
        "            return (i,j-1)\n",
        "\n",
        "    if(action == \"right\"):\n",
        "        if(j+1 <= 6 and (i,j+1) not in WALL_CONFIG):\n",
        "            return (i,j+1)\n",
        "    return (i,j)\n",
        "\n",
        "#This function gives us the reward based on our actions.\n",
        "def get_rewards(new_state):\n",
        "    i,j = new_state\n",
        "    if (i,j) in WALL_CONFIG:\n",
        "        return -1000;\n",
        "    elif (i,j) == (6,6):\n",
        "        return 0\n",
        "    else:\n",
        "        return -1\n"
      ]
    },
    {
      "cell_type": "code",
      "execution_count": null,
      "id": "6138c409",
      "metadata": {
        "id": "6138c409",
        "outputId": "6f88b50d-34c7-4103-c101-213d752a5f31",
        "colab": {
          "base_uri": "https://localhost:8080/",
          "height": 430
        }
      },
      "outputs": [
        {
          "output_type": "display_data",
          "data": {
            "text/plain": [
              "<Figure size 640x480 with 1 Axes>"
            ],
            "image/png": "[encoded data removed]"
          },
          "metadata": {}
        }
      ],
      "source": [
        "display_initial_grid(reward_mat)"
      ]
    },
    {
      "cell_type": "markdown",
      "id": "abff41d0",
      "metadata": {
        "id": "abff41d0"
      },
      "source": [
        "## Problem: You are In a Maze. Your task is to reach the Goal State with as much reward as possible.\n",
        "\n",
        "You start at initial position 0,0. Your task is to reach the goal state (6,6). The gray lines are walls.\n",
        "\n",
        "If you run into a wall you will get reward of -1000 and your position will stay the same as before. The reward at goal state is 0. For reaching all other states the reward is -1.\n",
        "\n",
        "You can perform 5 Actions: __up, down, left, right, stay__. Look at the __ACTIONS__ variable. Each Action has an index associated with it as per the ACTIONS variable. For example Up is 0, Down is 1 and so on.\n",
        "\n",
        "\n",
        "You have to use two algorithms: SARSA and Value Iteration to solve the problem.\n",
        "\n",
        "\n",
        "The framework for the environment has been created.\n",
        "\n",
        "To get the new state when at state __S__ and taking action __A__. Call the function __get_new_state(s,a)__.\n",
        "\n",
        "To get the reward for reaching new state __S__, call the function __get_reward(S)__.\n",
        "\n",
        "You can also refer to the Demo Notebook to get more clarity on how to use the Environment.\n"
      ]
    },
    {
      "cell_type": "code",
      "execution_count": null,
      "id": "4f01f6c5",
      "metadata": {
        "id": "4f01f6c5",
        "outputId": "dc9fa6c8-0ad8-463b-e3e8-e5f92e160b2c",
        "colab": {
          "base_uri": "https://localhost:8080/"
        }
      },
      "outputs": [
        {
          "output_type": "execute_result",
          "data": {
            "text/plain": [
              "['up', 'down', 'left', 'right', 'stay']"
            ]
          },
          "metadata": {},
          "execution_count": 107
        }
      ],
      "source": [
        "##These are the actions you have. You can use this varaables to get the number each one is associated with.\n",
        "ACTIONS"
      ]
    },
    {
      "cell_type": "markdown",
      "id": "b0b4351e",
      "metadata": {
        "id": "b0b4351e"
      },
      "source": [
        "### Q 1) SARSA:\n",
        "\n",
        "#### Q 1.1) Implement SARSA and run the solution."
      ]
    },
    {
      "cell_type": "code",
      "execution_count": null,
      "id": "86278a56",
      "metadata": {
        "id": "86278a56"
      },
      "outputs": [],
      "source": [
        "#Helper functions to plot our Policy.\n",
        "\n",
        "def get_arrow(index):\n",
        "    if index == 0:\n",
        "        return r\"$\\uparrow$\"\n",
        "    elif index == 1:\n",
        "        return r\"$\\downarrow$\"\n",
        "    elif index == 2:\n",
        "        return r\"$\\leftarrow$\"\n",
        "    elif index == 3:\n",
        "        return r\"$\\rightarrow$\"\n",
        "    elif index == 4:\n",
        "        return r\"$\\circlearrowleft$\"\n",
        "\n",
        "def plot_optimal_actions(data):\n",
        "\n",
        "    cmap = colors.ListedColormap(['grey', 'white', 'red'])\n",
        "    bounds = [-11, -2, 0, 12]\n",
        "    norm = colors.BoundaryNorm(bounds, cmap.N)\n",
        "\n",
        "    fig, ax1 = plt.subplots(1,1, figsize=(10,10))\n",
        "    ax1.imshow(data, cmap=cmap, norm=norm)\n",
        "\n",
        "    ax1.grid(which='major', axis='both', linestyle='-', color='k', linewidth=1)\n",
        "    ax1.set_xticks(np.arange(-.5, 7, 1))\n",
        "    ax1.set_yticks(np.arange(-.5, 7, 1))\n",
        "\n",
        "    for i in range(7):\n",
        "        for j in range(7):\n",
        "            arrow = get_arrow(np.argmax(q_table[i][j]))\n",
        "            text = ax1.text(j, i, arrow, fontsize=12, ha=\"center\", va=\"center\", color=\"black\")\n",
        "\n",
        "    fig.tight_layout()"
      ]
    },
    {
      "cell_type": "markdown",
      "id": "431d055b",
      "metadata": {
        "id": "431d055b"
      },
      "source": [
        "#### Q 1.2) Plot the Policy. You can use above helper functions if you want"
      ]
    },
    {
      "cell_type": "code",
      "source": [
        "# SARSA Algorithm\n",
        "def sarsa(grid, rewards, alpha=0.1, gamma=0.9, epsilon=0.1, episodes=1000):\n",
        "    q_table = np.zeros((len(grid), len(grid[0]), len(ACTIONS)))\n",
        "\n",
        "    for _ in range(episodes):\n",
        "        # Initialize the starting state\n",
        "        state = (0, 0)\n",
        "        action = np.argmax(q_table[state[0]][state[1]]) if random.uniform(0, 1) > epsilon else random.choice(range(len(ACTIONS)))\n",
        "\n",
        "        while state != (6, 6):\n",
        "\n",
        "            new_state = get_new_state(state, ACTIONS[action])\n",
        "            reward = get_rewards(new_state)\n",
        "            new_action = np.argmax(q_table[new_state[0]][new_state[1]]) if random.uniform(0, 1) > epsilon else random.choice(range(len(ACTIONS)))\n",
        "            q_table[state[0]][state[1]][action] += alpha * (reward + gamma * q_table[new_state[0]][new_state[1]][new_action] - q_table[state[0]][state[1]][action])\n",
        "            state = new_state\n",
        "            action = new_action\n",
        "\n",
        "    return q_table\n",
        "\n",
        "#q_table_sarsa = sarsa(grid, reward_mat)\n"
      ],
      "metadata": {
        "id": "CHky-r578dAQ"
      },
      "id": "CHky-r578dAQ",
      "execution_count": null,
      "outputs": []
    },
    {
      "cell_type": "code",
      "source": [
        "def plot_optimal_actions(q_table):\n",
        "    cmap = colors.ListedColormap(['white', 'grey', 'grey'])\n",
        "    bounds = [-10, -1, 0, 1]\n",
        "    norm = colors.BoundaryNorm(bounds, cmap.N)\n",
        "\n",
        "    fig, ax1 = plt.subplots(1, 1, figsize=(6, 6))\n",
        "\n",
        "    q_max = np.max(q_table, axis=-1)\n",
        "\n",
        "    q_max[5, 6] = -10\n",
        "    q_max[6, 5] = -10\n",
        "\n",
        "    ax1.imshow(q_max, cmap=cmap, norm=norm)\n",
        "    ax1.grid(which='major', axis='both', linestyle='-', color='k', linewidth=1)\n",
        "    ax1.set_xticks(np.arange(-.5, len(q_table[0]), 1))\n",
        "    ax1.set_yticks(np.arange(-.5, len(q_table), 1))\n",
        "\n",
        "    for i in range(len(q_table)):\n",
        "        for j in range(len(q_table[0])):\n",
        "            arrow = get_arrow(np.argmax(q_table[i][j]))\n",
        "\n",
        "            if (i, j) not in WALL_CONFIG and (i, j) != (6, 6):\n",
        "                text_color = \"black\"\n",
        "                text = ax1.text(j, i, arrow, fontsize=12, ha=\"center\", va=\"center\", color=text_color)\n",
        "\n",
        "    fig.tight_layout()\n",
        "\n",
        "q_table_sarsa = sarsa(grid, reward_mat)\n",
        "\n",
        "# Plot the optimal actions\n",
        "plot_optimal_actions(q_table_sarsa)\n",
        "plt.show()\n"
      ],
      "metadata": {
        "colab": {
          "base_uri": "https://localhost:8080/",
          "height": 584
        },
        "id": "mWaJSRcE6ur5",
        "outputId": "5f1455b3-fcde-48d1-88bc-8413cdb09735"
      },
      "id": "mWaJSRcE6ur5",
      "execution_count": null,
      "outputs": [
        {
          "output_type": "display_data",
          "data": {
            "text/plain": [
              "<Figure size 600x600 with 1 Axes>"
            ],
            "image/png": "[encoded data removed]"
          },
          "metadata": {}
        }
      ]
    },
    {
      "cell_type": "markdown",
      "source": [
        "\n",
        "\n",
        "Note: (6,6) is the goal state not the wall. Please dont get confused by same colour."
      ],
      "metadata": {
        "id": "TE8DxY_4AOe9"
      },
      "id": "TE8DxY_4AOe9"
    }
  ],
  "metadata": {
    "kernelspec": {
      "display_name": "Python 3 (ipykernel)",
      "language": "python",
      "name": "python3"
    },
    "language_info": {
      "codemirror_mode": {
        "name": "ipython",
        "version": 3
      },
      "file_extension": ".py",
      "mimetype": "text/x-python",
      "name": "python",
      "nbconvert_exporter": "python",
      "pygments_lexer": "ipython3",
      "version": "3.9.7"
    },
    "colab": {
      "provenance": []
    }
  },
  "nbformat": 4,
  "nbformat_minor": 5
}